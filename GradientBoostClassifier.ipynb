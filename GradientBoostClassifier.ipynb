{
 "cells": [
  {
   "cell_type": "code",
   "execution_count": 38,
   "metadata": {},
   "outputs": [],
   "source": [
    "import pandas as pd \n",
    "import numpy as np\n",
    "from sklearn.feature_extraction.text import CountVectorizer\n",
    "from sklearn.feature_extraction.text import TfidfTransformer\n",
    "from sklearn.model_selection import train_test_split\n",
    "from sklearn.metrics import classification_report,confusion_matrix\n",
    "from sklearn.metrics import accuracy_score\n",
    "from sklearn.ensemble import RandomForestClassifier, VotingClassifier, BaggingClassifier,AdaBoostClassifier,GradientBoostingClassifier\n",
    "from sklearn import preprocessing\n",
    "from sklearn.tree import DecisionTreeClassifier\n",
    "import itertools\n",
    "from sklearn.model_selection import cross_val_score\n",
    "from sklearn.svm import LinearSVC\n",
    "from sklearn.pipeline import Pipeline\n",
    "from xgboost import XGBClassifier\n",
    "from sklearn import svm\n",
    "from sklearn.model_selection import GridSearchCV"
   ]
  },
  {
   "cell_type": "code",
   "execution_count": 2,
   "metadata": {},
   "outputs": [],
   "source": [
    "df=pd.read_excel(\"Stopwords_Removed_Ticket_TypeWithoutClient.xlsx\")"
   ]
  },
  {
   "cell_type": "code",
   "execution_count": 3,
   "metadata": {},
   "outputs": [
    {
     "name": "stdout",
     "output_type": "stream",
     "text": [
      "<class 'pandas.core.frame.DataFrame'>\n",
      "RangeIndex: 79053 entries, 0 to 79052\n",
      "Data columns (total 10 columns):\n",
      "Incident: Number      79053 non-null int64\n",
      "Opened Date           79053 non-null datetime64[ns]\n",
      "Queue                 79053 non-null object\n",
      "Category              79053 non-null object\n",
      "Client Location       69515 non-null object\n",
      "Template              47271 non-null object\n",
      "Request Definition    28023 non-null object\n",
      "Short Description     79053 non-null object\n",
      "Ticket_Type           79053 non-null object\n",
      "Description1          78956 non-null object\n",
      "dtypes: datetime64[ns](1), int64(1), object(8)\n",
      "memory usage: 6.0+ MB\n"
     ]
    }
   ],
   "source": [
    "df.info()"
   ]
  },
  {
   "cell_type": "code",
   "execution_count": 4,
   "metadata": {},
   "outputs": [],
   "source": [
    "df.dropna(subset=[\"Description1\"],inplace=True)"
   ]
  },
  {
   "cell_type": "code",
   "execution_count": 5,
   "metadata": {},
   "outputs": [],
   "source": [
    "df=df[df['Ticket_Type']=='Request']"
   ]
  },
  {
   "cell_type": "code",
   "execution_count": 6,
   "metadata": {},
   "outputs": [],
   "source": [
    "X_train, X_test, y_train, y_test =  train_test_split(df['Description1'], df['Category'], test_size=0.20, random_state=42)"
   ]
  },
  {
   "cell_type": "code",
   "execution_count": 13,
   "metadata": {},
   "outputs": [],
   "source": [
    "pipeline = Pipeline([\n",
    "        ('bow', CountVectorizer(ngram_range=(1,2))),  # strings to token integer counts\n",
    "        ('tfidf', TfidfTransformer()),  # integer counts to weighted TF-IDF scores\n",
    "        #('Normalize', preprocessing.Normalizer()),\n",
    "        ('c',GradientBoostingClassifier(loss='deviance',n_estimators=300,learning_rate=0.01,max_depth=1,)),  \n",
    "    ])"
   ]
  },
  {
   "cell_type": "code",
   "execution_count": 7,
   "metadata": {},
   "outputs": [],
   "source": [
    "pipeline = Pipeline([\n",
    "        ('bow', CountVectorizer(ngram_range=(1,2))),  # strings to token integer counts\n",
    "        ('tfidf', TfidfTransformer()),  # integer counts to weighted TF-IDF scores\n",
    "        #('Normalize', preprocessing.Normalizer()),\n",
    "        ('c',svm.SVC(kernel='linear',probability=True)),  \n",
    "    ])"
   ]
  },
  {
   "cell_type": "code",
   "execution_count": 35,
   "metadata": {},
   "outputs": [],
   "source": [
    "pipeline = Pipeline([\n",
    "        ('bow', CountVectorizer(ngram_range=(1,2))),  # strings to token integer counts\n",
    "        ('tfidf', TfidfTransformer()),  # integer counts to weighted TF-IDF scores\n",
    "        #('Normalize', preprocessing.Normalizer()),\n",
    "        ('c',XGBClassifier()),  \n",
    "    ])"
   ]
  },
  {
   "cell_type": "code",
   "execution_count": 14,
   "metadata": {},
   "outputs": [
    {
     "data": {
      "text/plain": [
       "Pipeline(memory=None,\n",
       "     steps=[('bow', CountVectorizer(analyzer='word', binary=False, decode_error='strict',\n",
       "        dtype=<class 'numpy.int64'>, encoding='utf-8', input='content',\n",
       "        lowercase=True, max_df=1.0, max_features=None, min_df=1,\n",
       "        ngram_range=(1, 2), preprocessor=None, stop_words=None,\n",
       "        strip_...      presort='auto', random_state=None, subsample=1.0, verbose=0,\n",
       "              warm_start=False))])"
      ]
     },
     "execution_count": 14,
     "metadata": {},
     "output_type": "execute_result"
    }
   ],
   "source": [
    "pipeline.fit(X_train,y_train)"
   ]
  },
  {
   "cell_type": "code",
   "execution_count": 15,
   "metadata": {},
   "outputs": [
    {
     "name": "stdout",
     "output_type": "stream",
     "text": [
      "[[16  0  0 ...  0  0  0]\n",
      " [ 0  1  0 ...  0  0  0]\n",
      " [ 0  0 25 ...  0  0  0]\n",
      " ...\n",
      " [ 0  0  0 ... 27  0  0]\n",
      " [ 0  0  0 ...  0  1  0]\n",
      " [ 0  0  0 ...  0  0 12]]\n",
      "                                  precision    recall  f1-score   support\n",
      "\n",
      "         Add New Virtual Machine       0.64      0.47      0.54        34\n",
      "                          Apttus       0.50      0.50      0.50         2\n",
      "                    Audio-Visual       0.81      0.76      0.78        33\n",
      "                          Backup       0.46      0.68      0.55        19\n",
      "                         Browser       1.00      1.00      1.00         1\n",
      "           Business Applications       0.00      0.00      0.00         2\n",
      "                            CCMS       0.98      0.92      0.95       193\n",
      "                             COD       0.78      0.87      0.82       137\n",
      "                         COE-VPN       0.93      0.92      0.92       133\n",
      "                             COS       1.00      0.50      0.67         2\n",
      "                         CPM/MDM       0.50      0.50      0.50         2\n",
      "                            CSSO       1.00      0.80      0.89         5\n",
      "                       Cloud/POD       1.00      0.50      0.67        16\n",
      "  Conferencing and Collaboration       0.84      0.94      0.89        69\n",
      "               Copy/ Print/ Mail       0.00      0.00      0.00         1\n",
      "                           Coupa       0.00      0.00      0.00         1\n",
      "                             DPC       0.53      0.67      0.59        81\n",
      "                  Data-Warehouse       0.67      0.25      0.36         8\n",
      "                        Database       0.20      0.25      0.22         4\n",
      " Delete Existing Virtual Machine       0.93      0.68      0.79       136\n",
      "                        Exchange       0.82      0.49      0.61        84\n",
      "                      General-IT       1.00      0.67      0.80         3\n",
      "                      HCI Backup       0.00      0.00      0.00         1\n",
      "                        Hardware       0.86      0.81      0.83       554\n",
      "                             ICM       0.38      0.50      0.43         6\n",
      "       IT Monitoring ? Automount       1.00      0.33      0.50         3\n",
      "       IT Monitoring ? Mountpath       1.00      1.00      1.00         1\n",
      "                            JIRA       0.95      0.98      0.96        55\n",
      "                       Jabber-UC       0.61      0.76      0.68        29\n",
      "                         LAN WAN       0.46      0.46      0.46        13\n",
      "                             LSF       0.67      0.40      0.50        10\n",
      "                  License Server       1.00      0.67      0.80         3\n",
      "                             MAC       0.67      0.50      0.57         4\n",
      "           MAC Issues & Requests       0.00      0.00      0.00         1\n",
      "                Microsoft Office       1.00      0.38      0.55         8\n",
      "              Monitoring Request       0.70      0.70      0.70        10\n",
      "Network Access Certificate (NAC)       0.88      0.64      0.74        11\n",
      "                  New Hire Legal       1.00      1.00      1.00       105\n",
      "                            OKTA       0.84      0.68      0.75        63\n",
      "                       One Drive       0.94      0.99      0.96       194\n",
      "                           Other       0.88      0.82      0.85       502\n",
      "                             RMS       0.50      0.20      0.29         5\n",
      "                     RemedyForce       1.00      0.40      0.57         5\n",
      "                             SAP       0.88      0.77      0.82        97\n",
      "                            SFDC       0.58      0.92      0.71        12\n",
      "       SFDC-CRM User and Contact       0.00      0.00      0.00         9\n",
      " Salesforce-CRM Customer Support       0.00      0.00      0.00         1\n",
      "          Salesforce-CRM Reports       0.00      0.00      0.00         2\n",
      "            Salesforce-CRM Sales       0.50      1.00      0.67         1\n",
      "             San Jose Datacenter       0.94      0.85      0.89        20\n",
      "                        Security       1.00      0.67      0.80        39\n",
      "         Security - Certificates       0.88      0.78      0.82        18\n",
      "                      ServerFarm       0.94      0.88      0.91       709\n",
      "                      Sharepoint       0.77      0.62      0.69        16\n",
      "                      Smartphone       0.80      0.69      0.74       101\n",
      "                        Software       0.99      0.84      0.91       245\n",
      "                         Storage       0.81      0.88      0.84       214\n",
      "                        TechStop       0.28      0.72      0.40       322\n",
      "                       Telephone       0.97      0.99      0.98       268\n",
      "                    Telephone-UC       0.93      0.70      0.80        76\n",
      "                           Tools       0.92      0.67      0.77        18\n",
      "           Travel Expense/Concur       0.00      0.00      0.00         1\n",
      "                            UNIX       0.71      0.37      0.49       233\n",
      "                         VCAD-IT       0.83      0.70      0.76        43\n",
      "                   VCAD-Security       0.00      0.00      0.00         6\n",
      "                   VCAD-Software       0.47      0.29      0.36        24\n",
      "                        VCAD-VPN       0.00      0.00      0.00         2\n",
      "                  Virtualization       0.88      0.79      0.83       224\n",
      "                    WWS Timecard       1.00      0.69      0.82        13\n",
      "                        Webex-UC       0.00      0.00      0.00         7\n",
      "                            Wiki       0.00      0.00      0.00         2\n",
      "                         Windows       0.90      0.72      0.80       239\n",
      "              Windows Core Infra       1.00      0.56      0.72        16\n",
      "             Workday Application       1.00      0.87      0.93        31\n",
      "                      XenDesktop       1.00      0.33      0.50         3\n",
      "                        edaonTap       0.92      0.38      0.53        32\n",
      "\n",
      "                     avg / total       0.84      0.79      0.80      5593\n",
      "\n",
      "Accuracy :  0.7856248882531736\n"
     ]
    },
    {
     "name": "stderr",
     "output_type": "stream",
     "text": [
      "C:\\Users\\Administrator\\Anaconda3\\lib\\site-packages\\sklearn\\metrics\\classification.py:1135: UndefinedMetricWarning: Precision and F-score are ill-defined and being set to 0.0 in labels with no predicted samples.\n",
      "  'precision', 'predicted', average, warn_for)\n"
     ]
    }
   ],
   "source": [
    "pred=pipeline.predict(X_test)\n",
    "print(confusion_matrix(y_test,pred))\n",
    "print(classification_report(y_test,pred))\n",
    "print(\"Accuracy : \",accuracy_score(pred,y_test))"
   ]
  },
  {
   "cell_type": "code",
   "execution_count": null,
   "metadata": {},
   "outputs": [],
   "source": []
  },
  {
   "cell_type": "code",
   "execution_count": 8,
   "metadata": {},
   "outputs": [
    {
     "data": {
      "text/plain": [
       "Pipeline(memory=None,\n",
       "     steps=[('bow', CountVectorizer(analyzer='word', binary=False, decode_error='strict',\n",
       "        dtype=<class 'numpy.int64'>, encoding='utf-8', input='content',\n",
       "        lowercase=True, max_df=1.0, max_features=None, min_df=1,\n",
       "        ngram_range=(1, 2), preprocessor=None, stop_words=None,\n",
       "        strip_...',\n",
       "  max_iter=-1, probability=True, random_state=None, shrinking=True,\n",
       "  tol=0.001, verbose=False))])"
      ]
     },
     "execution_count": 8,
     "metadata": {},
     "output_type": "execute_result"
    }
   ],
   "source": [
    "pipeline.fit(X_train,y_train)"
   ]
  },
  {
   "cell_type": "code",
   "execution_count": 9,
   "metadata": {},
   "outputs": [
    {
     "name": "stdout",
     "output_type": "stream",
     "text": [
      "[[24  0  0 ...  0  0  0]\n",
      " [ 0  1  0 ...  0  0  0]\n",
      " [ 0  0 26 ...  0  0  0]\n",
      " ...\n",
      " [ 0  0  0 ... 29  0  0]\n",
      " [ 0  0  0 ...  0  3  0]\n",
      " [ 0  0  0 ...  0  0 21]]\n",
      "                                  precision    recall  f1-score   support\n",
      "\n",
      "         Add New Virtual Machine       0.73      0.71      0.72        34\n",
      "                          Apttus       0.50      0.50      0.50         2\n",
      "                    Audio-Visual       0.93      0.79      0.85        33\n",
      "                          Backup       0.87      0.68      0.76        19\n",
      "                         Browser       0.00      0.00      0.00         1\n",
      "           Business Applications       0.00      0.00      0.00         2\n",
      "                            CCMS       0.98      0.96      0.97       193\n",
      "                             COD       0.81      0.89      0.85       137\n",
      "                         COE-VPN       0.95      0.92      0.93       133\n",
      "                             COS       0.00      0.00      0.00         2\n",
      "                         CPM/MDM       1.00      0.50      0.67         2\n",
      "                            CSSO       1.00      0.80      0.89         5\n",
      "                       Cloud/POD       0.78      0.44      0.56        16\n",
      "  Conferencing and Collaboration       0.84      0.93      0.88        69\n",
      "               Copy/ Print/ Mail       0.00      0.00      0.00         1\n",
      "                           Coupa       0.00      0.00      0.00         1\n",
      "                             DPC       0.73      0.75      0.74        81\n",
      "                  Data-Warehouse       0.00      0.00      0.00         8\n",
      "                        Database       0.67      0.50      0.57         4\n",
      " Delete Existing Virtual Machine       0.93      0.98      0.95       136\n",
      "                        Exchange       0.84      0.89      0.87        84\n",
      "                      General-IT       1.00      0.33      0.50         3\n",
      "                      HCI Backup       0.00      0.00      0.00         1\n",
      "                        Hardware       0.94      0.88      0.91       554\n",
      "                             ICM       0.75      0.50      0.60         6\n",
      "       IT Monitoring ? Automount       0.00      0.00      0.00         3\n",
      "       IT Monitoring ? Mountpath       0.00      0.00      0.00         1\n",
      "                            JIRA       0.96      0.96      0.96        55\n",
      "                       Jabber-UC       0.78      0.72      0.75        29\n",
      "                         LAN WAN       0.75      0.46      0.57        13\n",
      "                             LSF       1.00      0.30      0.46        10\n",
      "                  License Server       1.00      0.67      0.80         3\n",
      "                             MAC       0.67      0.50      0.57         4\n",
      "           MAC Issues & Requests       0.00      0.00      0.00         1\n",
      "                Microsoft Office       1.00      0.75      0.86         8\n",
      "              Monitoring Request       0.75      0.60      0.67        10\n",
      "Network Access Certificate (NAC)       0.89      0.73      0.80        11\n",
      "                  New Hire Legal       1.00      1.00      1.00       105\n",
      "                            OKTA       0.88      0.79      0.83        63\n",
      "                       One Drive       0.95      0.98      0.97       194\n",
      "                           Other       0.87      0.93      0.90       502\n",
      "                             RMS       0.00      0.00      0.00         5\n",
      "                     RemedyForce       1.00      0.20      0.33         5\n",
      "                             SAP       0.95      0.91      0.93        97\n",
      "                            SFDC       0.61      0.92      0.73        12\n",
      "       SFDC-CRM User and Contact       0.00      0.00      0.00         9\n",
      " Salesforce-CRM Customer Support       0.00      0.00      0.00         1\n",
      "          Salesforce-CRM Reports       0.00      0.00      0.00         2\n",
      "            Salesforce-CRM Sales       0.00      0.00      0.00         1\n",
      "             San Jose Datacenter       1.00      0.85      0.92        20\n",
      "                        Security       1.00      0.72      0.84        39\n",
      "         Security - Certificates       1.00      0.78      0.88        18\n",
      "                      ServerFarm       0.95      0.96      0.95       709\n",
      "                      Sharepoint       1.00      0.81      0.90        16\n",
      "                      Smartphone       0.89      0.89      0.89       101\n",
      "                        Software       0.98      0.96      0.97       245\n",
      "                         Storage       0.91      0.94      0.93       214\n",
      "                        TechStop       0.57      0.71      0.63       322\n",
      "                       Telephone       0.97      1.00      0.99       268\n",
      "                    Telephone-UC       0.90      0.82      0.86        76\n",
      "                           Tools       0.88      0.78      0.82        18\n",
      "           Travel Expense/Concur       0.00      0.00      0.00         1\n",
      "                            UNIX       0.60      0.79      0.68       233\n",
      "                         VCAD-IT       0.81      0.88      0.84        43\n",
      "                   VCAD-Security       0.00      0.00      0.00         6\n",
      "                   VCAD-Software       0.75      0.62      0.68        24\n",
      "                        VCAD-VPN       0.00      0.00      0.00         2\n",
      "                  Virtualization       0.91      0.89      0.90       224\n",
      "                    WWS Timecard       1.00      0.54      0.70        13\n",
      "                        Webex-UC       0.00      0.00      0.00         7\n",
      "                            Wiki       0.00      0.00      0.00         2\n",
      "                         Windows       0.92      0.79      0.85       239\n",
      "              Windows Core Infra       1.00      0.56      0.72        16\n",
      "             Workday Application       1.00      0.94      0.97        31\n",
      "                      XenDesktop       1.00      1.00      1.00         3\n",
      "                        edaonTap       0.84      0.66      0.74        32\n",
      "\n",
      "                     avg / total       0.88      0.88      0.87      5593\n",
      "\n",
      "Accuracy :  0.8753799392097265\n"
     ]
    },
    {
     "name": "stderr",
     "output_type": "stream",
     "text": [
      "C:\\Users\\Administrator\\Anaconda3\\lib\\site-packages\\sklearn\\metrics\\classification.py:1135: UndefinedMetricWarning: Precision and F-score are ill-defined and being set to 0.0 in labels with no predicted samples.\n",
      "  'precision', 'predicted', average, warn_for)\n"
     ]
    }
   ],
   "source": [
    "pred=pipeline.predict(X_test)\n",
    "print(confusion_matrix(y_test,pred))\n",
    "print(classification_report(y_test,pred))\n",
    "print(\"Accuracy : \",accuracy_score(pred,y_test))"
   ]
  },
  {
   "cell_type": "code",
   "execution_count": 32,
   "metadata": {},
   "outputs": [
    {
     "data": {
      "text/plain": [
       "Pipeline(memory=None,\n",
       "     steps=[('bow', CountVectorizer(analyzer='word', binary=False, decode_error='strict',\n",
       "        dtype=<class 'numpy.int64'>, encoding='utf-8', input='content',\n",
       "        lowercase=True, max_df=1.0, max_features=None, min_df=1,\n",
       "        ngram_range=(1, 2), preprocessor=None, stop_words=None,\n",
       "        strip_...\n",
       "       reg_alpha=0, reg_lambda=1, scale_pos_weight=1, seed=None,\n",
       "       silent=True, subsample=1))])"
      ]
     },
     "execution_count": 32,
     "metadata": {},
     "output_type": "execute_result"
    }
   ],
   "source": [
    "pipeline.fit(X_train,y_train)"
   ]
  },
  {
   "cell_type": "code",
   "execution_count": 33,
   "metadata": {},
   "outputs": [
    {
     "name": "stdout",
     "output_type": "stream",
     "text": [
      "[[20  0  0 ...  0  0  0]\n",
      " [ 0  1  0 ...  0  0  0]\n",
      " [ 0  0 25 ...  0  0  0]\n",
      " ...\n",
      " [ 0  0  0 ... 27  0  0]\n",
      " [ 0  0  0 ...  0  1  0]\n",
      " [ 0  0  0 ...  0  0 18]]\n",
      "                                  precision    recall  f1-score   support\n",
      "\n",
      "         Add New Virtual Machine       0.62      0.59      0.61        34\n",
      "                          Apttus       0.50      0.50      0.50         2\n",
      "                    Audio-Visual       0.93      0.76      0.83        33\n",
      "                          Backup       0.64      0.74      0.68        19\n",
      "                         Browser       0.00      0.00      0.00         1\n",
      "           Business Applications       0.00      0.00      0.00         2\n",
      "                            CCMS       0.97      0.93      0.95       193\n",
      "                             COD       0.80      0.86      0.83       137\n",
      "                         COE-VPN       0.93      0.92      0.93       133\n",
      "                             COS       0.00      0.00      0.00         2\n",
      "                         CPM/MDM       0.00      0.00      0.00         2\n",
      "                            CSSO       0.80      0.80      0.80         5\n",
      "                       Cloud/POD       0.50      0.50      0.50        16\n",
      "  Conferencing and Collaboration       0.79      0.96      0.86        69\n",
      "               Copy/ Print/ Mail       0.00      0.00      0.00         1\n",
      "                           Coupa       0.00      0.00      0.00         1\n",
      "                             DPC       0.68      0.70      0.69        81\n",
      "                  Data-Warehouse       0.00      0.00      0.00         8\n",
      "                        Database       0.50      0.50      0.50         4\n",
      " Delete Existing Virtual Machine       0.87      0.76      0.81       136\n",
      "                        Exchange       0.86      0.64      0.73        84\n",
      "                      General-IT       1.00      0.33      0.50         3\n",
      "                      HCI Backup       0.00      0.00      0.00         1\n",
      "                        Hardware       0.88      0.85      0.86       554\n",
      "                             ICM       0.20      0.17      0.18         6\n",
      "       IT Monitoring ? Automount       0.00      0.00      0.00         3\n",
      "       IT Monitoring ? Mountpath       0.00      0.00      0.00         1\n",
      "                            JIRA       0.95      0.96      0.95        55\n",
      "                       Jabber-UC       0.71      0.69      0.70        29\n",
      "                         LAN WAN       0.71      0.38      0.50        13\n",
      "                        LMS/CSOD       0.00      0.00      0.00         0\n",
      "                             LSF       1.00      0.30      0.46        10\n",
      "                    LYNC/Outlook       0.00      0.00      0.00         0\n",
      "              Legal Applications       0.00      0.00      0.00         0\n",
      "                  License Server       0.50      0.33      0.40         3\n",
      "                             MAC       0.25      0.25      0.25         4\n",
      "           MAC Issues & Requests       0.00      0.00      0.00         1\n",
      "                Microsoft Office       1.00      0.88      0.93         8\n",
      "              Monitoring Request       0.64      0.70      0.67        10\n",
      "Network Access Certificate (NAC)       1.00      0.55      0.71        11\n",
      "                  New Hire Legal       1.00      1.00      1.00       105\n",
      "                            OKTA       0.86      0.79      0.83        63\n",
      "                       One Drive       0.94      0.98      0.96       194\n",
      "                           Other       0.85      0.87      0.86       502\n",
      "                             RMS       0.00      0.00      0.00         5\n",
      "                     RemedyForce       1.00      0.40      0.57         5\n",
      "                             SAP       0.90      0.86      0.88        97\n",
      "                            SFDC       0.50      0.25      0.33        12\n",
      "       SFDC-CRM User and Contact       0.20      0.22      0.21         9\n",
      " Salesforce-CRM Customer Support       0.00      0.00      0.00         1\n",
      "          Salesforce-CRM Reports       0.00      0.00      0.00         2\n",
      "            Salesforce-CRM Sales       0.00      0.00      0.00         1\n",
      "             San Jose Datacenter       0.94      0.85      0.89        20\n",
      "                        Security       0.96      0.69      0.81        39\n",
      "         Security - Certificates       0.76      0.72      0.74        18\n",
      "                      ServerFarm       0.95      0.92      0.93       709\n",
      "                      Sharepoint       0.77      0.62      0.69        16\n",
      "                      Smartphone       0.82      0.81      0.82       101\n",
      "                        Software       0.92      0.89      0.90       245\n",
      "                         Storage       0.85      0.91      0.88       214\n",
      "                        TechStop       0.42      0.70      0.52       322\n",
      "                       Telephone       0.99      0.99      0.99       268\n",
      "                    Telephone-UC       0.92      0.87      0.89        76\n",
      "                           Tools       0.80      0.44      0.57        18\n",
      "           Travel Expense/Concur       0.00      0.00      0.00         1\n",
      "                            UNIX       0.60      0.56      0.58       233\n",
      "                         VCAD-IT       0.76      0.79      0.77        43\n",
      "                   VCAD-Security       1.00      0.17      0.29         6\n",
      "                   VCAD-Software       0.90      0.38      0.53        24\n",
      "                        VCAD-VPN       0.00      0.00      0.00         2\n",
      "                  Virtualization       0.81      0.86      0.83       224\n",
      "                       Vormetric       0.00      0.00      0.00         0\n",
      "                    WWS Timecard       1.00      0.23      0.38        13\n",
      "                        Webex-UC       0.00      0.00      0.00         7\n",
      "                            Wiki       0.00      0.00      0.00         2\n",
      "                         Windows       0.88      0.76      0.81       239\n",
      "              Windows Core Infra       1.00      0.50      0.67        16\n",
      "             Workday Application       1.00      0.87      0.93        31\n",
      "                      XenDesktop       1.00      0.33      0.50         3\n",
      "                        edaonTap       0.69      0.56      0.62        32\n",
      "\n",
      "                     avg / total       0.84      0.82      0.82      5593\n",
      "\n",
      "Accuracy :  0.8235294117647058\n"
     ]
    },
    {
     "name": "stderr",
     "output_type": "stream",
     "text": [
      "C:\\Users\\Administrator\\Anaconda3\\lib\\site-packages\\sklearn\\preprocessing\\label.py:151: DeprecationWarning: The truth value of an empty array is ambiguous. Returning False, but in future this will result in an error. Use `array.size > 0` to check that an array is not empty.\n",
      "  if diff:\n",
      "C:\\Users\\Administrator\\Anaconda3\\lib\\site-packages\\sklearn\\metrics\\classification.py:1135: UndefinedMetricWarning: Precision and F-score are ill-defined and being set to 0.0 in labels with no predicted samples.\n",
      "  'precision', 'predicted', average, warn_for)\n",
      "C:\\Users\\Administrator\\Anaconda3\\lib\\site-packages\\sklearn\\metrics\\classification.py:1137: UndefinedMetricWarning: Recall and F-score are ill-defined and being set to 0.0 in labels with no true samples.\n",
      "  'recall', 'true', average, warn_for)\n"
     ]
    }
   ],
   "source": [
    "pred=pipeline.predict(X_test)\n",
    "print(confusion_matrix(y_test,pred))\n",
    "print(classification_report(y_test,pred))\n",
    "print(\"Accuracy : \",accuracy_score(pred,y_test))"
   ]
  },
  {
   "cell_type": "code",
   "execution_count": 45,
   "metadata": {},
   "outputs": [],
   "source": [
    "param_grid = {'c__max_depth':[0,1,2],'c__n_estimator':[100,150,200,250],'c__learning_rate':[0.1,1,2], 'c__gamma':[0.1,1, 10, 100, 1000]} "
   ]
  },
  {
   "cell_type": "code",
   "execution_count": 46,
   "metadata": {},
   "outputs": [],
   "source": [
    "grid_search = GridSearchCV(pipeline,param_grid,refit=True, verbose=3)"
   ]
  },
  {
   "cell_type": "code",
   "execution_count": null,
   "metadata": {},
   "outputs": [
    {
     "name": "stdout",
     "output_type": "stream",
     "text": [
      "Fitting 3 folds for each of 180 candidates, totalling 540 fits\n"
     ]
    },
    {
     "name": "stderr",
     "output_type": "stream",
     "text": [
      "C:\\Users\\Administrator\\Anaconda3\\lib\\site-packages\\sklearn\\model_selection\\_split.py:605: Warning: The least populated class in y has only 1 members, which is too few. The minimum number of members in any class cannot be less than n_splits=3.\n",
      "  % (min_groups, self.n_splits)), Warning)\n"
     ]
    },
    {
     "name": "stdout",
     "output_type": "stream",
     "text": [
      "[CV] c__gamma=0.1, c__learning_rate=0.1, c__max_depth=0, c__n_estimator=100 \n"
     ]
    },
    {
     "name": "stderr",
     "output_type": "stream",
     "text": [
      "C:\\Users\\Administrator\\Anaconda3\\lib\\site-packages\\sklearn\\preprocessing\\label.py:151: DeprecationWarning: The truth value of an empty array is ambiguous. Returning False, but in future this will result in an error. Use `array.size > 0` to check that an array is not empty.\n",
      "  if diff:\n",
      "C:\\Users\\Administrator\\Anaconda3\\lib\\site-packages\\sklearn\\preprocessing\\label.py:151: DeprecationWarning: The truth value of an empty array is ambiguous. Returning False, but in future this will result in an error. Use `array.size > 0` to check that an array is not empty.\n",
      "  if diff:\n",
      "[Parallel(n_jobs=1)]: Done   1 out of   1 | elapsed:  1.4min remaining:    0.0s\n"
     ]
    },
    {
     "name": "stdout",
     "output_type": "stream",
     "text": [
      "[CV]  c__gamma=0.1, c__learning_rate=0.1, c__max_depth=0, c__n_estimator=100, score=0.12444919214848445, total= 1.2min\n",
      "[CV] c__gamma=0.1, c__learning_rate=0.1, c__max_depth=0, c__n_estimator=100 \n"
     ]
    },
    {
     "name": "stderr",
     "output_type": "stream",
     "text": [
      "C:\\Users\\Administrator\\Anaconda3\\lib\\site-packages\\sklearn\\preprocessing\\label.py:151: DeprecationWarning: The truth value of an empty array is ambiguous. Returning False, but in future this will result in an error. Use `array.size > 0` to check that an array is not empty.\n",
      "  if diff:\n",
      "C:\\Users\\Administrator\\Anaconda3\\lib\\site-packages\\sklearn\\preprocessing\\label.py:151: DeprecationWarning: The truth value of an empty array is ambiguous. Returning False, but in future this will result in an error. Use `array.size > 0` to check that an array is not empty.\n",
      "  if diff:\n",
      "[Parallel(n_jobs=1)]: Done   2 out of   2 | elapsed:  3.2min remaining:    0.0s\n"
     ]
    },
    {
     "name": "stdout",
     "output_type": "stream",
     "text": [
      "[CV]  c__gamma=0.1, c__learning_rate=0.1, c__max_depth=0, c__n_estimator=100, score=0.1249832372267668, total= 1.4min\n",
      "[CV] c__gamma=0.1, c__learning_rate=0.1, c__max_depth=0, c__n_estimator=100 \n"
     ]
    },
    {
     "name": "stderr",
     "output_type": "stream",
     "text": [
      "C:\\Users\\Administrator\\Anaconda3\\lib\\site-packages\\sklearn\\preprocessing\\label.py:151: DeprecationWarning: The truth value of an empty array is ambiguous. Returning False, but in future this will result in an error. Use `array.size > 0` to check that an array is not empty.\n",
      "  if diff:\n",
      "C:\\Users\\Administrator\\Anaconda3\\lib\\site-packages\\sklearn\\preprocessing\\label.py:151: DeprecationWarning: The truth value of an empty array is ambiguous. Returning False, but in future this will result in an error. Use `array.size > 0` to check that an array is not empty.\n",
      "  if diff:\n"
     ]
    },
    {
     "name": "stdout",
     "output_type": "stream",
     "text": [
      "[CV]  c__gamma=0.1, c__learning_rate=0.1, c__max_depth=0, c__n_estimator=100, score=0.12557262193478846, total= 1.4min\n",
      "[CV] c__gamma=0.1, c__learning_rate=0.1, c__max_depth=0, c__n_estimator=150 \n"
     ]
    },
    {
     "name": "stderr",
     "output_type": "stream",
     "text": [
      "C:\\Users\\Administrator\\Anaconda3\\lib\\site-packages\\sklearn\\preprocessing\\label.py:151: DeprecationWarning: The truth value of an empty array is ambiguous. Returning False, but in future this will result in an error. Use `array.size > 0` to check that an array is not empty.\n",
      "  if diff:\n",
      "C:\\Users\\Administrator\\Anaconda3\\lib\\site-packages\\sklearn\\preprocessing\\label.py:151: DeprecationWarning: The truth value of an empty array is ambiguous. Returning False, but in future this will result in an error. Use `array.size > 0` to check that an array is not empty.\n",
      "  if diff:\n"
     ]
    },
    {
     "name": "stdout",
     "output_type": "stream",
     "text": [
      "[CV]  c__gamma=0.1, c__learning_rate=0.1, c__max_depth=0, c__n_estimator=150, score=0.12444919214848445, total= 1.3min\n",
      "[CV] c__gamma=0.1, c__learning_rate=0.1, c__max_depth=0, c__n_estimator=150 \n"
     ]
    },
    {
     "name": "stderr",
     "output_type": "stream",
     "text": [
      "C:\\Users\\Administrator\\Anaconda3\\lib\\site-packages\\sklearn\\preprocessing\\label.py:151: DeprecationWarning: The truth value of an empty array is ambiguous. Returning False, but in future this will result in an error. Use `array.size > 0` to check that an array is not empty.\n",
      "  if diff:\n",
      "C:\\Users\\Administrator\\Anaconda3\\lib\\site-packages\\sklearn\\preprocessing\\label.py:151: DeprecationWarning: The truth value of an empty array is ambiguous. Returning False, but in future this will result in an error. Use `array.size > 0` to check that an array is not empty.\n",
      "  if diff:\n"
     ]
    },
    {
     "name": "stdout",
     "output_type": "stream",
     "text": [
      "[CV]  c__gamma=0.1, c__learning_rate=0.1, c__max_depth=0, c__n_estimator=150, score=0.1249832372267668, total= 1.5min\n",
      "[CV] c__gamma=0.1, c__learning_rate=0.1, c__max_depth=0, c__n_estimator=150 \n"
     ]
    },
    {
     "name": "stderr",
     "output_type": "stream",
     "text": [
      "C:\\Users\\Administrator\\Anaconda3\\lib\\site-packages\\sklearn\\preprocessing\\label.py:151: DeprecationWarning: The truth value of an empty array is ambiguous. Returning False, but in future this will result in an error. Use `array.size > 0` to check that an array is not empty.\n",
      "  if diff:\n",
      "C:\\Users\\Administrator\\Anaconda3\\lib\\site-packages\\sklearn\\preprocessing\\label.py:151: DeprecationWarning: The truth value of an empty array is ambiguous. Returning False, but in future this will result in an error. Use `array.size > 0` to check that an array is not empty.\n",
      "  if diff:\n"
     ]
    },
    {
     "name": "stdout",
     "output_type": "stream",
     "text": [
      "[CV]  c__gamma=0.1, c__learning_rate=0.1, c__max_depth=0, c__n_estimator=150, score=0.12557262193478846, total= 1.4min\n",
      "[CV] c__gamma=0.1, c__learning_rate=0.1, c__max_depth=0, c__n_estimator=200 \n"
     ]
    },
    {
     "name": "stderr",
     "output_type": "stream",
     "text": [
      "C:\\Users\\Administrator\\Anaconda3\\lib\\site-packages\\sklearn\\preprocessing\\label.py:151: DeprecationWarning: The truth value of an empty array is ambiguous. Returning False, but in future this will result in an error. Use `array.size > 0` to check that an array is not empty.\n",
      "  if diff:\n",
      "C:\\Users\\Administrator\\Anaconda3\\lib\\site-packages\\sklearn\\preprocessing\\label.py:151: DeprecationWarning: The truth value of an empty array is ambiguous. Returning False, but in future this will result in an error. Use `array.size > 0` to check that an array is not empty.\n",
      "  if diff:\n"
     ]
    },
    {
     "name": "stdout",
     "output_type": "stream",
     "text": [
      "[CV]  c__gamma=0.1, c__learning_rate=0.1, c__max_depth=0, c__n_estimator=200, score=0.12444919214848445, total= 1.3min\n",
      "[CV] c__gamma=0.1, c__learning_rate=0.1, c__max_depth=0, c__n_estimator=200 \n"
     ]
    },
    {
     "name": "stderr",
     "output_type": "stream",
     "text": [
      "C:\\Users\\Administrator\\Anaconda3\\lib\\site-packages\\sklearn\\preprocessing\\label.py:151: DeprecationWarning: The truth value of an empty array is ambiguous. Returning False, but in future this will result in an error. Use `array.size > 0` to check that an array is not empty.\n",
      "  if diff:\n",
      "C:\\Users\\Administrator\\Anaconda3\\lib\\site-packages\\sklearn\\preprocessing\\label.py:151: DeprecationWarning: The truth value of an empty array is ambiguous. Returning False, but in future this will result in an error. Use `array.size > 0` to check that an array is not empty.\n",
      "  if diff:\n"
     ]
    },
    {
     "name": "stdout",
     "output_type": "stream",
     "text": [
      "[CV]  c__gamma=0.1, c__learning_rate=0.1, c__max_depth=0, c__n_estimator=200, score=0.1249832372267668, total= 1.4min\n",
      "[CV] c__gamma=0.1, c__learning_rate=0.1, c__max_depth=0, c__n_estimator=200 \n"
     ]
    },
    {
     "name": "stderr",
     "output_type": "stream",
     "text": [
      "C:\\Users\\Administrator\\Anaconda3\\lib\\site-packages\\sklearn\\preprocessing\\label.py:151: DeprecationWarning: The truth value of an empty array is ambiguous. Returning False, but in future this will result in an error. Use `array.size > 0` to check that an array is not empty.\n",
      "  if diff:\n",
      "C:\\Users\\Administrator\\Anaconda3\\lib\\site-packages\\sklearn\\preprocessing\\label.py:151: DeprecationWarning: The truth value of an empty array is ambiguous. Returning False, but in future this will result in an error. Use `array.size > 0` to check that an array is not empty.\n",
      "  if diff:\n"
     ]
    },
    {
     "name": "stdout",
     "output_type": "stream",
     "text": [
      "[CV]  c__gamma=0.1, c__learning_rate=0.1, c__max_depth=0, c__n_estimator=200, score=0.12557262193478846, total= 1.4min\n",
      "[CV] c__gamma=0.1, c__learning_rate=0.1, c__max_depth=0, c__n_estimator=250 \n"
     ]
    },
    {
     "name": "stderr",
     "output_type": "stream",
     "text": [
      "C:\\Users\\Administrator\\Anaconda3\\lib\\site-packages\\sklearn\\preprocessing\\label.py:151: DeprecationWarning: The truth value of an empty array is ambiguous. Returning False, but in future this will result in an error. Use `array.size > 0` to check that an array is not empty.\n",
      "  if diff:\n",
      "C:\\Users\\Administrator\\Anaconda3\\lib\\site-packages\\sklearn\\preprocessing\\label.py:151: DeprecationWarning: The truth value of an empty array is ambiguous. Returning False, but in future this will result in an error. Use `array.size > 0` to check that an array is not empty.\n",
      "  if diff:\n"
     ]
    },
    {
     "name": "stdout",
     "output_type": "stream",
     "text": [
      "[CV]  c__gamma=0.1, c__learning_rate=0.1, c__max_depth=0, c__n_estimator=250, score=0.12444919214848445, total= 1.2min\n",
      "[CV] c__gamma=0.1, c__learning_rate=0.1, c__max_depth=0, c__n_estimator=250 \n"
     ]
    },
    {
     "name": "stderr",
     "output_type": "stream",
     "text": [
      "C:\\Users\\Administrator\\Anaconda3\\lib\\site-packages\\sklearn\\preprocessing\\label.py:151: DeprecationWarning: The truth value of an empty array is ambiguous. Returning False, but in future this will result in an error. Use `array.size > 0` to check that an array is not empty.\n",
      "  if diff:\n",
      "C:\\Users\\Administrator\\Anaconda3\\lib\\site-packages\\sklearn\\preprocessing\\label.py:151: DeprecationWarning: The truth value of an empty array is ambiguous. Returning False, but in future this will result in an error. Use `array.size > 0` to check that an array is not empty.\n",
      "  if diff:\n"
     ]
    },
    {
     "name": "stdout",
     "output_type": "stream",
     "text": [
      "[CV]  c__gamma=0.1, c__learning_rate=0.1, c__max_depth=0, c__n_estimator=250, score=0.1249832372267668, total= 1.4min\n",
      "[CV] c__gamma=0.1, c__learning_rate=0.1, c__max_depth=0, c__n_estimator=250 \n"
     ]
    },
    {
     "name": "stderr",
     "output_type": "stream",
     "text": [
      "C:\\Users\\Administrator\\Anaconda3\\lib\\site-packages\\sklearn\\preprocessing\\label.py:151: DeprecationWarning: The truth value of an empty array is ambiguous. Returning False, but in future this will result in an error. Use `array.size > 0` to check that an array is not empty.\n",
      "  if diff:\n",
      "C:\\Users\\Administrator\\Anaconda3\\lib\\site-packages\\sklearn\\preprocessing\\label.py:151: DeprecationWarning: The truth value of an empty array is ambiguous. Returning False, but in future this will result in an error. Use `array.size > 0` to check that an array is not empty.\n",
      "  if diff:\n"
     ]
    },
    {
     "name": "stdout",
     "output_type": "stream",
     "text": [
      "[CV]  c__gamma=0.1, c__learning_rate=0.1, c__max_depth=0, c__n_estimator=250, score=0.12557262193478846, total= 1.4min\n",
      "[CV] c__gamma=0.1, c__learning_rate=0.1, c__max_depth=1, c__n_estimator=100 \n"
     ]
    },
    {
     "name": "stderr",
     "output_type": "stream",
     "text": [
      "C:\\Users\\Administrator\\Anaconda3\\lib\\site-packages\\sklearn\\preprocessing\\label.py:151: DeprecationWarning: The truth value of an empty array is ambiguous. Returning False, but in future this will result in an error. Use `array.size > 0` to check that an array is not empty.\n",
      "  if diff:\n",
      "C:\\Users\\Administrator\\Anaconda3\\lib\\site-packages\\sklearn\\preprocessing\\label.py:151: DeprecationWarning: The truth value of an empty array is ambiguous. Returning False, but in future this will result in an error. Use `array.size > 0` to check that an array is not empty.\n",
      "  if diff:\n"
     ]
    },
    {
     "name": "stdout",
     "output_type": "stream",
     "text": [
      "[CV]  c__gamma=0.1, c__learning_rate=0.1, c__max_depth=1, c__n_estimator=100, score=0.7827480304446521, total= 8.4min\n",
      "[CV] c__gamma=0.1, c__learning_rate=0.1, c__max_depth=1, c__n_estimator=100 \n"
     ]
    },
    {
     "name": "stderr",
     "output_type": "stream",
     "text": [
      "C:\\Users\\Administrator\\Anaconda3\\lib\\site-packages\\sklearn\\preprocessing\\label.py:151: DeprecationWarning: The truth value of an empty array is ambiguous. Returning False, but in future this will result in an error. Use `array.size > 0` to check that an array is not empty.\n",
      "  if diff:\n",
      "C:\\Users\\Administrator\\Anaconda3\\lib\\site-packages\\sklearn\\preprocessing\\label.py:151: DeprecationWarning: The truth value of an empty array is ambiguous. Returning False, but in future this will result in an error. Use `array.size > 0` to check that an array is not empty.\n",
      "  if diff:\n"
     ]
    },
    {
     "name": "stdout",
     "output_type": "stream",
     "text": [
      "[CV]  c__gamma=0.1, c__learning_rate=0.1, c__max_depth=1, c__n_estimator=100, score=0.8015287649188682, total= 9.4min\n",
      "[CV] c__gamma=0.1, c__learning_rate=0.1, c__max_depth=1, c__n_estimator=100 \n"
     ]
    },
    {
     "name": "stderr",
     "output_type": "stream",
     "text": [
      "C:\\Users\\Administrator\\Anaconda3\\lib\\site-packages\\sklearn\\preprocessing\\label.py:151: DeprecationWarning: The truth value of an empty array is ambiguous. Returning False, but in future this will result in an error. Use `array.size > 0` to check that an array is not empty.\n",
      "  if diff:\n",
      "C:\\Users\\Administrator\\Anaconda3\\lib\\site-packages\\sklearn\\preprocessing\\label.py:151: DeprecationWarning: The truth value of an empty array is ambiguous. Returning False, but in future this will result in an error. Use `array.size > 0` to check that an array is not empty.\n",
      "  if diff:\n"
     ]
    },
    {
     "name": "stdout",
     "output_type": "stream",
     "text": [
      "[CV]  c__gamma=0.1, c__learning_rate=0.1, c__max_depth=1, c__n_estimator=100, score=0.7922392886014551, total= 8.9min\n",
      "[CV] c__gamma=0.1, c__learning_rate=0.1, c__max_depth=1, c__n_estimator=150 \n"
     ]
    }
   ],
   "source": [
    "\n",
    "grid_search.fit(X_train, y_train)"
   ]
  },
  {
   "cell_type": "code",
   "execution_count": null,
   "metadata": {},
   "outputs": [],
   "source": []
  }
 ],
 "metadata": {
  "kernelspec": {
   "display_name": "Python 3",
   "language": "python",
   "name": "python3"
  },
  "language_info": {
   "codemirror_mode": {
    "name": "ipython",
    "version": 3
   },
   "file_extension": ".py",
   "mimetype": "text/x-python",
   "name": "python",
   "nbconvert_exporter": "python",
   "pygments_lexer": "ipython3",
   "version": "3.6.7"
  }
 },
 "nbformat": 4,
 "nbformat_minor": 2
}
