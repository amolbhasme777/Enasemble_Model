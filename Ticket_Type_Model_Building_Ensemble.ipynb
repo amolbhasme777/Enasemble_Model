{
 "cells": [
  {
   "cell_type": "code",
   "execution_count": 1,
   "metadata": {},
   "outputs": [],
   "source": [
    "import pandas as pd \n",
    "from sklearn import svm\n",
    "from sklearn.feature_extraction.text import CountVectorizer\n",
    "from sklearn.feature_extraction.text import TfidfTransformer\n",
    "from sklearn.model_selection import train_test_split\n",
    "from sklearn.metrics import classification_report,confusion_matrix\n",
    "from sklearn.metrics import accuracy_score\n",
    "from sklearn.svm import LinearSVC\n",
    "from sklearn.pipeline import Pipeline\n",
    "from sklearn import preprocessing\n",
    "from xgboost import XGBClassifier\n",
    "from sklearn.linear_model import LogisticRegression\n",
    "from sklearn.model_selection import GridSearchCV"
   ]
  },
  {
   "cell_type": "code",
   "execution_count": 2,
   "metadata": {},
   "outputs": [],
   "source": [
    "df=pd.read_excel('Stopwords_Removed_Ticket_TypeWithoutClient.xlsx',sheet_name=\"Sheet1\",encoding='utf8')"
   ]
  },
  {
   "cell_type": "code",
   "execution_count": 3,
   "metadata": {
    "scrolled": true
   },
   "outputs": [
    {
     "data": {
      "text/plain": [
       "Incident    51030\n",
       "Request     28023\n",
       "Name: Ticket_Type, dtype: int64"
      ]
     },
     "execution_count": 3,
     "metadata": {},
     "output_type": "execute_result"
    }
   ],
   "source": [
    "df['Ticket_Type'].value_counts()"
   ]
  },
  {
   "cell_type": "code",
   "execution_count": 4,
   "metadata": {},
   "outputs": [
    {
     "name": "stdout",
     "output_type": "stream",
     "text": [
      "<class 'pandas.core.frame.DataFrame'>\n",
      "RangeIndex: 79053 entries, 0 to 79052\n",
      "Data columns (total 10 columns):\n",
      "Incident: Number      79053 non-null int64\n",
      "Opened Date           79053 non-null datetime64[ns]\n",
      "Queue                 79053 non-null object\n",
      "Category              79053 non-null object\n",
      "Client Location       69515 non-null object\n",
      "Template              47271 non-null object\n",
      "Request Definition    28023 non-null object\n",
      "Short Description     79053 non-null object\n",
      "Ticket_Type           79053 non-null object\n",
      "Description1          78956 non-null object\n",
      "dtypes: datetime64[ns](1), int64(1), object(8)\n",
      "memory usage: 6.0+ MB\n"
     ]
    }
   ],
   "source": [
    "df.info()"
   ]
  },
  {
   "cell_type": "code",
   "execution_count": 5,
   "metadata": {},
   "outputs": [],
   "source": [
    "df.dropna(subset=[\"Description1\"],inplace=True)"
   ]
  },
  {
   "cell_type": "code",
   "execution_count": null,
   "metadata": {},
   "outputs": [],
   "source": [
    "pipeline = Pipeline([\n",
    "        ('bow', CountVectorizer(ngram_range=(1,2))),  # strings to token integer counts\n",
    "        ('tfidf', TfidfTransformer()),  # integer counts to weighted TF-IDF scores\n",
    "        #('Normalize', preprocessing.Normalizer()),\n",
    "        ('c',LinearSVC()),  \n",
    "    ])"
   ]
  },
  {
   "cell_type": "code",
   "execution_count": 6,
   "metadata": {},
   "outputs": [],
   "source": [
    "pipeline = Pipeline([\n",
    "        ('bow', CountVectorizer(ngram_range=(1,2))),  # strings to token integer counts\n",
    "        ('tfidf', TfidfTransformer()),  # integer counts to weighted TF-IDF scores\n",
    "        #('Normalize', preprocessing.Normalizer()),\n",
    "        ('c',svm.SVC()),  \n",
    "    ])"
   ]
  },
  {
   "cell_type": "code",
   "execution_count": null,
   "metadata": {},
   "outputs": [],
   "source": [
    "pipeline = Pipeline([\n",
    "        ('bow', CountVectorizer(ngram_range=(1,2))),  # strings to token integer counts\n",
    "        ('tfidf', TfidfTransformer()),  # integer counts to weighted TF-IDF scores\n",
    "        #('Normalize', preprocessing.Normalizer()),\n",
    "        ('c',LogisticRegression()),  \n",
    "    ])"
   ]
  },
  {
   "cell_type": "code",
   "execution_count": null,
   "metadata": {},
   "outputs": [],
   "source": [
    "X_train, X_test, y_train, y_test =  train_test_split(df['Description1'], df['Ticket_Type'], test_size=0.20, random_state=42)"
   ]
  },
  {
   "cell_type": "code",
   "execution_count": null,
   "metadata": {},
   "outputs": [],
   "source": [
    "A_train, A_test, b_train, b_test =  train_test_split(df['Short Description'], df['Request Definition'], test_size=0.20, random_state=42)"
   ]
  },
  {
   "cell_type": "code",
   "execution_count": null,
   "metadata": {},
   "outputs": [],
   "source": [
    "M_train, M_test, n_train, n_test =  train_test_split(df['Short Description'], df['Template'], test_size=0.20, random_state=42)"
   ]
  },
  {
   "cell_type": "code",
   "execution_count": 7,
   "metadata": {},
   "outputs": [],
   "source": [
    "X_train=df['Description1']\n",
    "y_train=df['Ticket_Type']"
   ]
  },
  {
   "cell_type": "code",
   "execution_count": null,
   "metadata": {},
   "outputs": [],
   "source": [
    "pipeline.fit(X_train,y_train)"
   ]
  },
  {
   "cell_type": "code",
   "execution_count": null,
   "metadata": {
    "scrolled": true
   },
   "outputs": [],
   "source": [
    "pred=pipeline.predict(X_test)\n",
    "print(confusion_matrix(y_test,pred))\n",
    "print(classification_report(y_test,pred))\n",
    "print(\"Accuracy : \",accuracy_score(pred,y_test))"
   ]
  },
  {
   "cell_type": "code",
   "execution_count": 8,
   "metadata": {},
   "outputs": [],
   "source": [
    "param_grid = {'c__probability':[True,False],'c__degree':[3,4,5],'c__kernel':['linear',],'c__C': [0.1,1, 10, 100, 1000], 'c__gamma':[0.1,1, 10, 100, 1000]} "
   ]
  },
  {
   "cell_type": "code",
   "execution_count": 9,
   "metadata": {},
   "outputs": [],
   "source": [
    "grid_search = GridSearchCV(pipeline,param_grid,refit=True, verbose=3)"
   ]
  },
  {
   "cell_type": "code",
   "execution_count": null,
   "metadata": {},
   "outputs": [
    {
     "name": "stdout",
     "output_type": "stream",
     "text": [
      "Fitting 3 folds for each of 150 candidates, totalling 450 fits\n",
      "[CV] c__C=0.1, c__degree=3, c__gamma=0.1, c__kernel=linear, c__probability=True \n",
      "[CV]  c__C=0.1, c__degree=3, c__gamma=0.1, c__kernel=linear, c__probability=True, score=0.8924012158054712, total=45.5min\n",
      "[CV] c__C=0.1, c__degree=3, c__gamma=0.1, c__kernel=linear, c__probability=True \n"
     ]
    },
    {
     "name": "stderr",
     "output_type": "stream",
     "text": [
      "[Parallel(n_jobs=1)]: Done   1 out of   1 | elapsed: 49.2min remaining:    0.0s\n"
     ]
    },
    {
     "name": "stdout",
     "output_type": "stream",
     "text": [
      "[CV]  c__C=0.1, c__degree=3, c__gamma=0.1, c__kernel=linear, c__probability=True, score=0.8191731894520861, total=48.3min\n",
      "[CV] c__C=0.1, c__degree=3, c__gamma=0.1, c__kernel=linear, c__probability=True \n"
     ]
    },
    {
     "name": "stderr",
     "output_type": "stream",
     "text": [
      "[Parallel(n_jobs=1)]: Done   2 out of   2 | elapsed: 101.1min remaining:    0.0s\n"
     ]
    },
    {
     "name": "stdout",
     "output_type": "stream",
     "text": [
      "[CV]  c__C=0.1, c__degree=3, c__gamma=0.1, c__kernel=linear, c__probability=True, score=0.7826202598981685, total=45.0min\n",
      "[CV] c__C=0.1, c__degree=3, c__gamma=0.1, c__kernel=linear, c__probability=False \n",
      "[CV]  c__C=0.1, c__degree=3, c__gamma=0.1, c__kernel=linear, c__probability=False, score=0.8924012158054712, total=11.3min\n",
      "[CV] c__C=0.1, c__degree=3, c__gamma=0.1, c__kernel=linear, c__probability=False \n",
      "[CV]  c__C=0.1, c__degree=3, c__gamma=0.1, c__kernel=linear, c__probability=False, score=0.8191731894520861, total= 9.4min\n",
      "[CV] c__C=0.1, c__degree=3, c__gamma=0.1, c__kernel=linear, c__probability=False \n",
      "[CV]  c__C=0.1, c__degree=3, c__gamma=0.1, c__kernel=linear, c__probability=False, score=0.7826202598981685, total= 9.1min\n",
      "[CV] c__C=0.1, c__degree=3, c__gamma=1, c__kernel=linear, c__probability=True \n",
      "[CV]  c__C=0.1, c__degree=3, c__gamma=1, c__kernel=linear, c__probability=True, score=0.8924012158054712, total=43.3min\n",
      "[CV] c__C=0.1, c__degree=3, c__gamma=1, c__kernel=linear, c__probability=True \n",
      "[CV]  c__C=0.1, c__degree=3, c__gamma=1, c__kernel=linear, c__probability=True, score=0.8191731894520861, total=44.0min\n",
      "[CV] c__C=0.1, c__degree=3, c__gamma=1, c__kernel=linear, c__probability=True \n",
      "[CV]  c__C=0.1, c__degree=3, c__gamma=1, c__kernel=linear, c__probability=True, score=0.7826202598981685, total=39.9min\n",
      "[CV] c__C=0.1, c__degree=3, c__gamma=1, c__kernel=linear, c__probability=False \n",
      "[CV]  c__C=0.1, c__degree=3, c__gamma=1, c__kernel=linear, c__probability=False, score=0.8924012158054712, total= 8.5min\n",
      "[CV] c__C=0.1, c__degree=3, c__gamma=1, c__kernel=linear, c__probability=False \n",
      "[CV]  c__C=0.1, c__degree=3, c__gamma=1, c__kernel=linear, c__probability=False, score=0.8191731894520861, total= 8.8min\n",
      "[CV] c__C=0.1, c__degree=3, c__gamma=1, c__kernel=linear, c__probability=False \n",
      "[CV]  c__C=0.1, c__degree=3, c__gamma=1, c__kernel=linear, c__probability=False, score=0.7826202598981685, total= 8.5min\n",
      "[CV] c__C=0.1, c__degree=3, c__gamma=10, c__kernel=linear, c__probability=True \n",
      "[CV]  c__C=0.1, c__degree=3, c__gamma=10, c__kernel=linear, c__probability=True, score=0.8924012158054712, total=38.8min\n",
      "[CV] c__C=0.1, c__degree=3, c__gamma=10, c__kernel=linear, c__probability=True \n",
      "[CV]  c__C=0.1, c__degree=3, c__gamma=10, c__kernel=linear, c__probability=True, score=0.8191731894520861, total=37.6min\n",
      "[CV] c__C=0.1, c__degree=3, c__gamma=10, c__kernel=linear, c__probability=True \n",
      "[CV]  c__C=0.1, c__degree=3, c__gamma=10, c__kernel=linear, c__probability=True, score=0.7826202598981685, total=37.8min\n",
      "[CV] c__C=0.1, c__degree=3, c__gamma=10, c__kernel=linear, c__probability=False \n",
      "[CV]  c__C=0.1, c__degree=3, c__gamma=10, c__kernel=linear, c__probability=False, score=0.8924012158054712, total= 7.7min\n",
      "[CV] c__C=0.1, c__degree=3, c__gamma=10, c__kernel=linear, c__probability=False \n",
      "[CV]  c__C=0.1, c__degree=3, c__gamma=10, c__kernel=linear, c__probability=False, score=0.8191731894520861, total= 8.0min\n",
      "[CV] c__C=0.1, c__degree=3, c__gamma=10, c__kernel=linear, c__probability=False \n",
      "[CV]  c__C=0.1, c__degree=3, c__gamma=10, c__kernel=linear, c__probability=False, score=0.7826202598981685, total= 7.8min\n",
      "[CV] c__C=0.1, c__degree=3, c__gamma=100, c__kernel=linear, c__probability=True \n",
      "[CV]  c__C=0.1, c__degree=3, c__gamma=100, c__kernel=linear, c__probability=True, score=0.8924012158054712, total=37.3min\n",
      "[CV] c__C=0.1, c__degree=3, c__gamma=100, c__kernel=linear, c__probability=True \n",
      "[CV]  c__C=0.1, c__degree=3, c__gamma=100, c__kernel=linear, c__probability=True, score=0.8191731894520861, total=37.5min\n",
      "[CV] c__C=0.1, c__degree=3, c__gamma=100, c__kernel=linear, c__probability=True \n",
      "[CV]  c__C=0.1, c__degree=3, c__gamma=100, c__kernel=linear, c__probability=True, score=0.7826202598981685, total=37.5min\n",
      "[CV] c__C=0.1, c__degree=3, c__gamma=100, c__kernel=linear, c__probability=False \n",
      "[CV]  c__C=0.1, c__degree=3, c__gamma=100, c__kernel=linear, c__probability=False, score=0.8924012158054712, total= 7.7min\n",
      "[CV] c__C=0.1, c__degree=3, c__gamma=100, c__kernel=linear, c__probability=False \n",
      "[CV]  c__C=0.1, c__degree=3, c__gamma=100, c__kernel=linear, c__probability=False, score=0.8191731894520861, total= 8.2min\n",
      "[CV] c__C=0.1, c__degree=3, c__gamma=100, c__kernel=linear, c__probability=False \n",
      "[CV]  c__C=0.1, c__degree=3, c__gamma=100, c__kernel=linear, c__probability=False, score=0.7826202598981685, total= 7.9min\n",
      "[CV] c__C=0.1, c__degree=3, c__gamma=1000, c__kernel=linear, c__probability=True \n",
      "[CV]  c__C=0.1, c__degree=3, c__gamma=1000, c__kernel=linear, c__probability=True, score=0.8924012158054712, total=37.0min\n",
      "[CV] c__C=0.1, c__degree=3, c__gamma=1000, c__kernel=linear, c__probability=True \n",
      "[CV]  c__C=0.1, c__degree=3, c__gamma=1000, c__kernel=linear, c__probability=True, score=0.8191731894520861, total=37.4min\n",
      "[CV] c__C=0.1, c__degree=3, c__gamma=1000, c__kernel=linear, c__probability=True \n",
      "[CV]  c__C=0.1, c__degree=3, c__gamma=1000, c__kernel=linear, c__probability=True, score=0.7826202598981685, total=38.0min\n",
      "[CV] c__C=0.1, c__degree=3, c__gamma=1000, c__kernel=linear, c__probability=False \n",
      "[CV]  c__C=0.1, c__degree=3, c__gamma=1000, c__kernel=linear, c__probability=False, score=0.8924012158054712, total= 7.7min\n",
      "[CV] c__C=0.1, c__degree=3, c__gamma=1000, c__kernel=linear, c__probability=False \n",
      "[CV]  c__C=0.1, c__degree=3, c__gamma=1000, c__kernel=linear, c__probability=False, score=0.8191731894520861, total= 8.7min\n",
      "[CV] c__C=0.1, c__degree=3, c__gamma=1000, c__kernel=linear, c__probability=False \n",
      "[CV]  c__C=0.1, c__degree=3, c__gamma=1000, c__kernel=linear, c__probability=False, score=0.7826202598981685, total= 8.1min\n",
      "[CV] c__C=0.1, c__degree=4, c__gamma=0.1, c__kernel=linear, c__probability=True \n",
      "[CV]  c__C=0.1, c__degree=4, c__gamma=0.1, c__kernel=linear, c__probability=True, score=0.8924012158054712, total=37.0min\n",
      "[CV] c__C=0.1, c__degree=4, c__gamma=0.1, c__kernel=linear, c__probability=True \n",
      "[CV]  c__C=0.1, c__degree=4, c__gamma=0.1, c__kernel=linear, c__probability=True, score=0.8191731894520861, total=36.3min\n",
      "[CV] c__C=0.1, c__degree=4, c__gamma=0.1, c__kernel=linear, c__probability=True \n",
      "[CV]  c__C=0.1, c__degree=4, c__gamma=0.1, c__kernel=linear, c__probability=True, score=0.7826202598981685, total=37.0min\n",
      "[CV] c__C=0.1, c__degree=4, c__gamma=0.1, c__kernel=linear, c__probability=False \n",
      "[CV]  c__C=0.1, c__degree=4, c__gamma=0.1, c__kernel=linear, c__probability=False, score=0.8924012158054712, total= 7.5min\n",
      "[CV] c__C=0.1, c__degree=4, c__gamma=0.1, c__kernel=linear, c__probability=False \n",
      "[CV]  c__C=0.1, c__degree=4, c__gamma=0.1, c__kernel=linear, c__probability=False, score=0.8191731894520861, total= 8.0min\n",
      "[CV] c__C=0.1, c__degree=4, c__gamma=0.1, c__kernel=linear, c__probability=False \n",
      "[CV]  c__C=0.1, c__degree=4, c__gamma=0.1, c__kernel=linear, c__probability=False, score=0.7826202598981685, total= 7.8min\n",
      "[CV] c__C=0.1, c__degree=4, c__gamma=1, c__kernel=linear, c__probability=True \n",
      "[CV]  c__C=0.1, c__degree=4, c__gamma=1, c__kernel=linear, c__probability=True, score=0.8924012158054712, total=35.8min\n",
      "[CV] c__C=0.1, c__degree=4, c__gamma=1, c__kernel=linear, c__probability=True \n",
      "[CV]  c__C=0.1, c__degree=4, c__gamma=1, c__kernel=linear, c__probability=True, score=0.8191731894520861, total=37.9min\n",
      "[CV] c__C=0.1, c__degree=4, c__gamma=1, c__kernel=linear, c__probability=True \n",
      "[CV]  c__C=0.1, c__degree=4, c__gamma=1, c__kernel=linear, c__probability=True, score=0.7826202598981685, total=37.4min\n",
      "[CV] c__C=0.1, c__degree=4, c__gamma=1, c__kernel=linear, c__probability=False \n",
      "[CV]  c__C=0.1, c__degree=4, c__gamma=1, c__kernel=linear, c__probability=False, score=0.8924012158054712, total= 7.8min\n",
      "[CV] c__C=0.1, c__degree=4, c__gamma=1, c__kernel=linear, c__probability=False \n",
      "[CV]  c__C=0.1, c__degree=4, c__gamma=1, c__kernel=linear, c__probability=False, score=0.8191731894520861, total= 8.4min\n",
      "[CV] c__C=0.1, c__degree=4, c__gamma=1, c__kernel=linear, c__probability=False \n",
      "[CV]  c__C=0.1, c__degree=4, c__gamma=1, c__kernel=linear, c__probability=False, score=0.7826202598981685, total= 8.1min\n",
      "[CV] c__C=0.1, c__degree=4, c__gamma=10, c__kernel=linear, c__probability=True \n",
      "[CV]  c__C=0.1, c__degree=4, c__gamma=10, c__kernel=linear, c__probability=True, score=0.8924012158054712, total=37.2min\n",
      "[CV] c__C=0.1, c__degree=4, c__gamma=10, c__kernel=linear, c__probability=True \n"
     ]
    },
    {
     "name": "stdout",
     "output_type": "stream",
     "text": [
      "[CV]  c__C=0.1, c__degree=4, c__gamma=10, c__kernel=linear, c__probability=True, score=0.8191731894520861, total=38.4min\n",
      "[CV] c__C=0.1, c__degree=4, c__gamma=10, c__kernel=linear, c__probability=True \n",
      "[CV]  c__C=0.1, c__degree=4, c__gamma=10, c__kernel=linear, c__probability=True, score=0.7826202598981685, total=37.3min\n",
      "[CV] c__C=0.1, c__degree=4, c__gamma=10, c__kernel=linear, c__probability=False \n",
      "[CV]  c__C=0.1, c__degree=4, c__gamma=10, c__kernel=linear, c__probability=False, score=0.8924012158054712, total= 8.0min\n",
      "[CV] c__C=0.1, c__degree=4, c__gamma=10, c__kernel=linear, c__probability=False \n",
      "[CV]  c__C=0.1, c__degree=4, c__gamma=10, c__kernel=linear, c__probability=False, score=0.8191731894520861, total= 9.4min\n",
      "[CV] c__C=0.1, c__degree=4, c__gamma=10, c__kernel=linear, c__probability=False \n",
      "[CV]  c__C=0.1, c__degree=4, c__gamma=10, c__kernel=linear, c__probability=False, score=0.7826202598981685, total= 8.0min\n",
      "[CV] c__C=0.1, c__degree=4, c__gamma=100, c__kernel=linear, c__probability=True \n",
      "[CV]  c__C=0.1, c__degree=4, c__gamma=100, c__kernel=linear, c__probability=True, score=0.8924012158054712, total=39.3min\n",
      "[CV] c__C=0.1, c__degree=4, c__gamma=100, c__kernel=linear, c__probability=True \n",
      "[CV]  c__C=0.1, c__degree=4, c__gamma=100, c__kernel=linear, c__probability=True, score=0.8191731894520861, total=42.5min\n",
      "[CV] c__C=0.1, c__degree=4, c__gamma=100, c__kernel=linear, c__probability=True \n",
      "[CV]  c__C=0.1, c__degree=4, c__gamma=100, c__kernel=linear, c__probability=True, score=0.7826202598981685, total=36.8min\n",
      "[CV] c__C=0.1, c__degree=4, c__gamma=100, c__kernel=linear, c__probability=False \n",
      "[CV]  c__C=0.1, c__degree=4, c__gamma=100, c__kernel=linear, c__probability=False, score=0.8924012158054712, total= 8.2min\n",
      "[CV] c__C=0.1, c__degree=4, c__gamma=100, c__kernel=linear, c__probability=False \n",
      "[CV]  c__C=0.1, c__degree=4, c__gamma=100, c__kernel=linear, c__probability=False, score=0.8191731894520861, total= 9.6min\n",
      "[CV] c__C=0.1, c__degree=4, c__gamma=100, c__kernel=linear, c__probability=False \n",
      "[CV]  c__C=0.1, c__degree=4, c__gamma=100, c__kernel=linear, c__probability=False, score=0.7826202598981685, total=11.6min\n",
      "[CV] c__C=0.1, c__degree=4, c__gamma=1000, c__kernel=linear, c__probability=True \n",
      "[CV]  c__C=0.1, c__degree=4, c__gamma=1000, c__kernel=linear, c__probability=True, score=0.8924012158054712, total=41.7min\n",
      "[CV] c__C=0.1, c__degree=4, c__gamma=1000, c__kernel=linear, c__probability=True \n",
      "[CV]  c__C=0.1, c__degree=4, c__gamma=1000, c__kernel=linear, c__probability=True, score=0.8191731894520861, total=41.2min\n",
      "[CV] c__C=0.1, c__degree=4, c__gamma=1000, c__kernel=linear, c__probability=True \n",
      "[CV]  c__C=0.1, c__degree=4, c__gamma=1000, c__kernel=linear, c__probability=True, score=0.7826202598981685, total=43.3min\n",
      "[CV] c__C=0.1, c__degree=4, c__gamma=1000, c__kernel=linear, c__probability=False \n",
      "[CV]  c__C=0.1, c__degree=4, c__gamma=1000, c__kernel=linear, c__probability=False, score=0.8924012158054712, total= 9.3min\n",
      "[CV] c__C=0.1, c__degree=4, c__gamma=1000, c__kernel=linear, c__probability=False \n",
      "[CV]  c__C=0.1, c__degree=4, c__gamma=1000, c__kernel=linear, c__probability=False, score=0.8191731894520861, total=10.2min\n",
      "[CV] c__C=0.1, c__degree=4, c__gamma=1000, c__kernel=linear, c__probability=False \n",
      "[CV]  c__C=0.1, c__degree=4, c__gamma=1000, c__kernel=linear, c__probability=False, score=0.7826202598981685, total= 9.3min\n",
      "[CV] c__C=0.1, c__degree=5, c__gamma=0.1, c__kernel=linear, c__probability=True \n",
      "[CV]  c__C=0.1, c__degree=5, c__gamma=0.1, c__kernel=linear, c__probability=True, score=0.8924012158054712, total=46.5min\n",
      "[CV] c__C=0.1, c__degree=5, c__gamma=0.1, c__kernel=linear, c__probability=True \n",
      "[CV]  c__C=0.1, c__degree=5, c__gamma=0.1, c__kernel=linear, c__probability=True, score=0.8191731894520861, total=44.8min\n",
      "[CV] c__C=0.1, c__degree=5, c__gamma=0.1, c__kernel=linear, c__probability=True \n",
      "[CV]  c__C=0.1, c__degree=5, c__gamma=0.1, c__kernel=linear, c__probability=True, score=0.7826202598981685, total=40.2min\n",
      "[CV] c__C=0.1, c__degree=5, c__gamma=0.1, c__kernel=linear, c__probability=False \n",
      "[CV]  c__C=0.1, c__degree=5, c__gamma=0.1, c__kernel=linear, c__probability=False, score=0.8924012158054712, total= 8.1min\n",
      "[CV] c__C=0.1, c__degree=5, c__gamma=0.1, c__kernel=linear, c__probability=False \n",
      "[CV]  c__C=0.1, c__degree=5, c__gamma=0.1, c__kernel=linear, c__probability=False, score=0.8191731894520861, total= 8.5min\n",
      "[CV] c__C=0.1, c__degree=5, c__gamma=0.1, c__kernel=linear, c__probability=False \n",
      "[CV]  c__C=0.1, c__degree=5, c__gamma=0.1, c__kernel=linear, c__probability=False, score=0.7826202598981685, total= 8.1min\n",
      "[CV] c__C=0.1, c__degree=5, c__gamma=1, c__kernel=linear, c__probability=True \n",
      "[CV]  c__C=0.1, c__degree=5, c__gamma=1, c__kernel=linear, c__probability=True, score=0.8924012158054712, total=37.8min\n",
      "[CV] c__C=0.1, c__degree=5, c__gamma=1, c__kernel=linear, c__probability=True \n",
      "[CV]  c__C=0.1, c__degree=5, c__gamma=1, c__kernel=linear, c__probability=True, score=0.8191731894520861, total=38.4min\n",
      "[CV] c__C=0.1, c__degree=5, c__gamma=1, c__kernel=linear, c__probability=True \n",
      "[CV]  c__C=0.1, c__degree=5, c__gamma=1, c__kernel=linear, c__probability=True, score=0.7826202598981685, total=38.5min\n",
      "[CV] c__C=0.1, c__degree=5, c__gamma=1, c__kernel=linear, c__probability=False \n",
      "[CV]  c__C=0.1, c__degree=5, c__gamma=1, c__kernel=linear, c__probability=False, score=0.8924012158054712, total= 7.9min\n",
      "[CV] c__C=0.1, c__degree=5, c__gamma=1, c__kernel=linear, c__probability=False \n",
      "[CV]  c__C=0.1, c__degree=5, c__gamma=1, c__kernel=linear, c__probability=False, score=0.8191731894520861, total= 8.3min\n",
      "[CV] c__C=0.1, c__degree=5, c__gamma=1, c__kernel=linear, c__probability=False \n",
      "[CV]  c__C=0.1, c__degree=5, c__gamma=1, c__kernel=linear, c__probability=False, score=0.7826202598981685, total= 7.8min\n",
      "[CV] c__C=0.1, c__degree=5, c__gamma=10, c__kernel=linear, c__probability=True \n",
      "[CV]  c__C=0.1, c__degree=5, c__gamma=10, c__kernel=linear, c__probability=True, score=0.8924012158054712, total=37.3min\n",
      "[CV] c__C=0.1, c__degree=5, c__gamma=10, c__kernel=linear, c__probability=True \n",
      "[CV]  c__C=0.1, c__degree=5, c__gamma=10, c__kernel=linear, c__probability=True, score=0.8191731894520861, total=38.2min\n",
      "[CV] c__C=0.1, c__degree=5, c__gamma=10, c__kernel=linear, c__probability=True \n",
      "[CV]  c__C=0.1, c__degree=5, c__gamma=10, c__kernel=linear, c__probability=True, score=0.7826202598981685, total=36.3min\n",
      "[CV] c__C=0.1, c__degree=5, c__gamma=10, c__kernel=linear, c__probability=False \n",
      "[CV]  c__C=0.1, c__degree=5, c__gamma=10, c__kernel=linear, c__probability=False, score=0.8924012158054712, total= 7.7min\n",
      "[CV] c__C=0.1, c__degree=5, c__gamma=10, c__kernel=linear, c__probability=False \n",
      "[CV]  c__C=0.1, c__degree=5, c__gamma=10, c__kernel=linear, c__probability=False, score=0.8191731894520861, total= 8.2min\n",
      "[CV] c__C=0.1, c__degree=5, c__gamma=10, c__kernel=linear, c__probability=False \n",
      "[CV]  c__C=0.1, c__degree=5, c__gamma=10, c__kernel=linear, c__probability=False, score=0.7826202598981685, total= 7.9min\n",
      "[CV] c__C=0.1, c__degree=5, c__gamma=100, c__kernel=linear, c__probability=True \n",
      "[CV]  c__C=0.1, c__degree=5, c__gamma=100, c__kernel=linear, c__probability=True, score=0.8924012158054712, total=37.3min\n",
      "[CV] c__C=0.1, c__degree=5, c__gamma=100, c__kernel=linear, c__probability=True \n",
      "[CV]  c__C=0.1, c__degree=5, c__gamma=100, c__kernel=linear, c__probability=True, score=0.8191731894520861, total=37.5min\n",
      "[CV] c__C=0.1, c__degree=5, c__gamma=100, c__kernel=linear, c__probability=True \n",
      "[CV]  c__C=0.1, c__degree=5, c__gamma=100, c__kernel=linear, c__probability=True, score=0.7826202598981685, total=37.5min\n",
      "[CV] c__C=0.1, c__degree=5, c__gamma=100, c__kernel=linear, c__probability=False \n",
      "[CV]  c__C=0.1, c__degree=5, c__gamma=100, c__kernel=linear, c__probability=False, score=0.8924012158054712, total= 7.8min\n",
      "[CV] c__C=0.1, c__degree=5, c__gamma=100, c__kernel=linear, c__probability=False \n",
      "[CV]  c__C=0.1, c__degree=5, c__gamma=100, c__kernel=linear, c__probability=False, score=0.8191731894520861, total= 8.4min\n",
      "[CV] c__C=0.1, c__degree=5, c__gamma=100, c__kernel=linear, c__probability=False \n",
      "[CV]  c__C=0.1, c__degree=5, c__gamma=100, c__kernel=linear, c__probability=False, score=0.7826202598981685, total= 8.0min\n",
      "[CV] c__C=0.1, c__degree=5, c__gamma=1000, c__kernel=linear, c__probability=True \n"
     ]
    },
    {
     "name": "stdout",
     "output_type": "stream",
     "text": [
      "[CV]  c__C=0.1, c__degree=5, c__gamma=1000, c__kernel=linear, c__probability=True, score=0.8924012158054712, total=37.9min\n",
      "[CV] c__C=0.1, c__degree=5, c__gamma=1000, c__kernel=linear, c__probability=True \n",
      "[CV]  c__C=0.1, c__degree=5, c__gamma=1000, c__kernel=linear, c__probability=True, score=0.8191731894520861, total=38.9min\n",
      "[CV] c__C=0.1, c__degree=5, c__gamma=1000, c__kernel=linear, c__probability=True \n",
      "[CV]  c__C=0.1, c__degree=5, c__gamma=1000, c__kernel=linear, c__probability=True, score=0.7826202598981685, total=37.6min\n",
      "[CV] c__C=0.1, c__degree=5, c__gamma=1000, c__kernel=linear, c__probability=False \n",
      "[CV]  c__C=0.1, c__degree=5, c__gamma=1000, c__kernel=linear, c__probability=False, score=0.8924012158054712, total= 7.9min\n",
      "[CV] c__C=0.1, c__degree=5, c__gamma=1000, c__kernel=linear, c__probability=False \n",
      "[CV]  c__C=0.1, c__degree=5, c__gamma=1000, c__kernel=linear, c__probability=False, score=0.8191731894520861, total= 8.4min\n",
      "[CV] c__C=0.1, c__degree=5, c__gamma=1000, c__kernel=linear, c__probability=False \n",
      "[CV]  c__C=0.1, c__degree=5, c__gamma=1000, c__kernel=linear, c__probability=False, score=0.7826202598981685, total= 8.2min\n",
      "[CV] c__C=1, c__degree=3, c__gamma=0.1, c__kernel=linear, c__probability=True \n",
      "[CV]  c__C=1, c__degree=3, c__gamma=0.1, c__kernel=linear, c__probability=True, score=0.909080547112462, total=72.2min\n",
      "[CV] c__C=1, c__degree=3, c__gamma=0.1, c__kernel=linear, c__probability=True \n",
      "[CV]  c__C=1, c__degree=3, c__gamma=0.1, c__kernel=linear, c__probability=True, score=0.8768903412113382, total=70.7min\n",
      "[CV] c__C=1, c__degree=3, c__gamma=0.1, c__kernel=linear, c__probability=True \n",
      "[CV]  c__C=1, c__degree=3, c__gamma=0.1, c__kernel=linear, c__probability=True, score=0.8159814575575651, total=69.5min\n",
      "[CV] c__C=1, c__degree=3, c__gamma=0.1, c__kernel=linear, c__probability=False \n",
      "[CV]  c__C=1, c__degree=3, c__gamma=0.1, c__kernel=linear, c__probability=False, score=0.909080547112462, total=15.4min\n",
      "[CV] c__C=1, c__degree=3, c__gamma=0.1, c__kernel=linear, c__probability=False \n",
      "[CV]  c__C=1, c__degree=3, c__gamma=0.1, c__kernel=linear, c__probability=False, score=0.8768903412113382, total=16.8min\n",
      "[CV] c__C=1, c__degree=3, c__gamma=0.1, c__kernel=linear, c__probability=False \n",
      "[CV]  c__C=1, c__degree=3, c__gamma=0.1, c__kernel=linear, c__probability=False, score=0.8159814575575651, total=18.4min\n",
      "[CV] c__C=1, c__degree=3, c__gamma=1, c__kernel=linear, c__probability=True \n"
     ]
    }
   ],
   "source": [
    "\n",
    "grid_search.fit(X_train, y_train)"
   ]
  },
  {
   "cell_type": "code",
   "execution_count": null,
   "metadata": {},
   "outputs": [],
   "source": [
    "best_parameters = grid_search.best_estimator_.get_params()\n",
    "for param_name in sorted(param_grid.keys()):\n",
    "    print(\"\\t%s: %r\" % (param_name, best_parameters[param_name]))"
   ]
  },
  {
   "cell_type": "code",
   "execution_count": null,
   "metadata": {},
   "outputs": [],
   "source": [
    "X_train.shape"
   ]
  },
  {
   "cell_type": "code",
   "execution_count": null,
   "metadata": {},
   "outputs": [],
   "source": [
    "y_train.shape"
   ]
  },
  {
   "cell_type": "code",
   "execution_count": null,
   "metadata": {
    "scrolled": false
   },
   "outputs": [],
   "source": [
    "X_test.shape"
   ]
  },
  {
   "cell_type": "code",
   "execution_count": null,
   "metadata": {},
   "outputs": [],
   "source": [
    "y_test.shape"
   ]
  },
  {
   "cell_type": "code",
   "execution_count": null,
   "metadata": {},
   "outputs": [],
   "source": [
    "import joblib\n",
    "joblib.dump(pipeline,open('Ticket_Type_SVM_Model_withoutClient_15march.psm','wb'))"
   ]
  },
  {
   "cell_type": "code",
   "execution_count": null,
   "metadata": {},
   "outputs": [],
   "source": [
    "prob =pipeline.predict_proba(X_test)\n",
    "\n",
    "#Convert to list\n",
    "y_list = y_test.values.tolist()\n",
    "X_list = X_test.values.tolist()\n",
    "\n",
    "prob = prob.tolist()"
   ]
  },
  {
   "cell_type": "code",
   "execution_count": null,
   "metadata": {},
   "outputs": [],
   "source": [
    "conf = [max(prob[i]) for i in range(len(prob))]"
   ]
  },
  {
   "cell_type": "code",
   "execution_count": null,
   "metadata": {},
   "outputs": [],
   "source": [
    "act_data= A_test.values.tolist()\n",
    "# act_data=df1['Description']\n",
    "cat=n_test.values.tolist()"
   ]
  },
  {
   "cell_type": "code",
   "execution_count": null,
   "metadata": {},
   "outputs": [],
   "source": [
    "#Create Final DataFrame\n",
    "d = { 'Prediction_Template': pred,'Category':cat,'Orignal_Description':act_data,'Clean_Description':X_test}\n",
    "y_df = pd.DataFrame(d)\n",
    "y_df.info()"
   ]
  },
  {
   "cell_type": "code",
   "execution_count": null,
   "metadata": {},
   "outputs": [],
   "source": [
    "y_df"
   ]
  },
  {
   "cell_type": "code",
   "execution_count": null,
   "metadata": {},
   "outputs": [],
   "source": [
    "y_df[\"Result\"] = y_df[\"Actual_Template\"] == y_df[\"Prediction_Template\"]"
   ]
  },
  {
   "cell_type": "code",
   "execution_count": null,
   "metadata": {},
   "outputs": [],
   "source": [
    "writer = pd.ExcelWriter('Results_Ticket_Type.xlsx')\n",
    "y_df.to_excel(writer,\"Sheet1\")\n",
    "writer.save()"
   ]
  },
  {
   "cell_type": "code",
   "execution_count": null,
   "metadata": {},
   "outputs": [],
   "source": [
    "len(y_df[y_df[\"Result\"] == True])/len(y_df)"
   ]
  },
  {
   "cell_type": "code",
   "execution_count": null,
   "metadata": {},
   "outputs": [],
   "source": [
    "abovecf = y_df[y_df[\"Confidence\"] >=0.1].copy()"
   ]
  },
  {
   "cell_type": "code",
   "execution_count": null,
   "metadata": {},
   "outputs": [],
   "source": [
    "len(abovecf[abovecf[\"Result\"] == True])/len(abovecf)"
   ]
  },
  {
   "cell_type": "code",
   "execution_count": null,
   "metadata": {},
   "outputs": [],
   "source": [
    "allrecords = []\n",
    "truerecords = []\n",
    "falserecords = []\n",
    "accuracy = []"
   ]
  },
  {
   "cell_type": "code",
   "execution_count": null,
   "metadata": {},
   "outputs": [],
   "source": [
    "for i in range(0,10):\n",
    "    i = i * 0.10\n",
    "    abovecf = y_df[y_df[\"Confidence\"] >= i].copy()\n",
    "    allrecords.append(len(abovecf))\n",
    "    truerecords.append(len(abovecf[abovecf[\"Result\"] == True]))\n",
    "    falserecords.append(len(abovecf[abovecf[\"Result\"] == False]))\n",
    "    accuracy.append(len(abovecf[abovecf[\"Result\"] == True])/len(abovecf))"
   ]
  },
  {
   "cell_type": "code",
   "execution_count": null,
   "metadata": {},
   "outputs": [],
   "source": [
    "d = {'Tickets count above confidence Threshold': allrecords,'Correctly predicted tickets': truerecords, 'Incorrectly  predicted tickets': falserecords ,'Accuracy after Threshhold':accuracy,'Threeshold' : [x * 0.1 for x in range(0, 10)]}\n",
    "conf_data = pd.DataFrame(d)\n",
    "conf_data.info()"
   ]
  },
  {
   "cell_type": "code",
   "execution_count": null,
   "metadata": {},
   "outputs": [],
   "source": [
    "conf_data[\"Overall Tickets for Testing\"] = len(y_df)"
   ]
  },
  {
   "cell_type": "code",
   "execution_count": null,
   "metadata": {},
   "outputs": [],
   "source": [
    "conf_data[\"Tickets count routed  to manual Queue\"] =conf_data[\"Overall Tickets for Testing\"] - conf_data[\"Tickets count above confidence Threshold\"]"
   ]
  },
  {
   "cell_type": "code",
   "execution_count": null,
   "metadata": {},
   "outputs": [],
   "source": [
    "writer = pd.ExcelWriter('Result_conf_WithoutStem.xlsx')\n",
    "conf_data.to_excel(writer,\"Sheet1\")\n",
    "writer.save()"
   ]
  },
  {
   "cell_type": "code",
   "execution_count": null,
   "metadata": {},
   "outputs": [],
   "source": [
    "cm=confusion_matrix(y_test,pred)"
   ]
  },
  {
   "cell_type": "code",
   "execution_count": null,
   "metadata": {},
   "outputs": [],
   "source": [
    "import matplotlib.pyplot as plt"
   ]
  },
  {
   "cell_type": "code",
   "execution_count": null,
   "metadata": {},
   "outputs": [],
   "source": [
    "%matplotlib inline"
   ]
  },
  {
   "cell_type": "code",
   "execution_count": null,
   "metadata": {},
   "outputs": [],
   "source": [
    "plt.plot(cm)"
   ]
  },
  {
   "cell_type": "code",
   "execution_count": null,
   "metadata": {},
   "outputs": [],
   "source": [
    "cr=classification_report(y_test,pred)"
   ]
  },
  {
   "cell_type": "code",
   "execution_count": null,
   "metadata": {},
   "outputs": [],
   "source": [
    "file=open(\"Classification_Report_AllCategoryExcept20 .xlsx\",\"w\")"
   ]
  },
  {
   "cell_type": "code",
   "execution_count": null,
   "metadata": {},
   "outputs": [],
   "source": [
    "file.writelines([cr])"
   ]
  },
  {
   "cell_type": "code",
   "execution_count": null,
   "metadata": {},
   "outputs": [],
   "source": [
    "a=pd.DataFrame(cm)#index=pipeline.classes_,columns=pipeline.classes_"
   ]
  },
  {
   "cell_type": "code",
   "execution_count": null,
   "metadata": {},
   "outputs": [],
   "source": [
    "a.to_excel(\"Confusion_matrix_AllCategoryExcept20.xlsx\")"
   ]
  },
  {
   "cell_type": "code",
   "execution_count": null,
   "metadata": {},
   "outputs": [],
   "source": []
  }
 ],
 "metadata": {
  "kernelspec": {
   "display_name": "Python 3",
   "language": "python",
   "name": "python3"
  },
  "language_info": {
   "codemirror_mode": {
    "name": "ipython",
    "version": 3
   },
   "file_extension": ".py",
   "mimetype": "text/x-python",
   "name": "python",
   "nbconvert_exporter": "python",
   "pygments_lexer": "ipython3",
   "version": "3.6.7"
  }
 },
 "nbformat": 4,
 "nbformat_minor": 2
}
